{
 "cells": [
  {
   "cell_type": "markdown",
   "metadata": {},
   "source": [
    "# Building the pipeline for working with EEG data\n",
    "\n",
    "In this notebook\n",
    "- we build the codes to extract initial raw data;\n",
    "- we calculate different metrics as mesuares of functional connectivity;\n",
    "- based on calculated measures like Mutual Information and Coherence we create Adjacency Matrices; \n",
    "- we create graphs based on the previously calculated metrics;\n",
    "- make some plots to visualize the obtained graphs.\n",
    "\n",
    "MAYBE based on graphs we will train some graph convolutional neural networks..."
   ]
  },
  {
   "cell_type": "markdown",
   "metadata": {},
   "source": [
    "# 0 - Required packages\n",
    "\n"
   ]
  },
  {
   "cell_type": "markdown",
   "metadata": {},
   "source": [
    "# 1 - Datasets Links\n",
    "\n",
    " Links for downloading the datasets: https://isip.piconepress.com/projects/tuh_eeg/html/downloads.shtml\n",
    " \n",
    " Command for getting the data from the server: \n",
    "- rsync -auxvL nedc@www.isip.piconepress.com:data/eeg/tuh_eeg_abnormal/v2.0.0/ .\" \n",
    "- \"rsync -auxvL nedc@www.isip.piconepress.com:data/eeg/tuh_eeg_epilepsy/v1.0.0/ .\"\n",
    "\n",
    "TUH EEG Epilepsy Corpus. It was created to provide data for the purposes of automatic analysis of EEG. The patients were sorted by using a filter that categorized patients into two classes: epilepsy and not epilepsy. This was based on information in the session reports relating to their clinical history, medications at the time of recording, and EEG features associated with epilepsy. \n",
    "This subset contains European data format (EDF) files and corresponding neurologist reports for 1,648 files in  561 sessions from 200 patients. From these, 1473 files in 436 sessions from 100 patients have epilepsy, whereas 326 files in 134 sessions from 100 patients do not have epilepsy.\n",
    "link: https://isip.piconepress.com/conferences/ieee_spmb/2017/papers/p01_13.pdf\n",
    "\n",
    "FILENAME STRUCTURE \"TUH EEG Epilepsy Corpus.\":\n",
    "\n",
    " A typical filename in this corpus is: edf/epilepsy/01_tcp_ar/003/00000355/s003_2013_01_04/00000355_s003_t000.edf\n",
    "\n",
    " The first segment, \"edf/\", is a directory name for the directory containing the data, which consists of edf files (*.edf) and EEG reports (*.txt).\n",
    "\n",
    " The second segment denotes either patients with epilepsy (\"/epilepsy\") or patients with without epilepsy (\"/no_epilepsy\").\n",
    "\n",
    " The third segment (\"/01_tcp_ar\") denotes the type of channel configurationfor the EEG. \"/01_tcp_ar\" refers to an AR reference configuration.\n",
    "\n",
    " The fourth segment (\"003\") is a three-digit identifier meant to keep the number of subdirectories in a directory manageable. This follows the TUH EEG v1.1.0 convention.\n",
    "\n",
    " The fifth segment (\"/00000355\") denotes an anonymized patient ID. The IDs are consistent across all of our databases involving Temple\n",
    " Hospital EEG data.\n",
    "\n",
    " The sixth segment (\"/s003_2013_01_04\") denotes the session number(\"s003\"), and the date the EEG was archived at the hospital(\"01/04/2013\").\n",
    "\n",
    " The seventh, or last, segment is the filename (\"00000355_s003_t000.edf\"). This includes the patient number, the session number and a token number (\"t000\").\n",
    "\n",
    " Sessions were sorted into epilepsy and no epilepsy categories by searching the associated EEG reports for indications as to a epilepsy/no epilepsy \n",
    " diagnosis based on clinical history, medications at the time of recording, and EEG features associated with epilepsy such as spike and sharp waves. \n"
   ]
  },
  {
   "cell_type": "markdown",
   "metadata": {},
   "source": [
    "### Data engineering"
   ]
  },
  {
   "cell_type": "code",
   "execution_count": 20,
   "metadata": {},
   "outputs": [],
   "source": [
    "from glob2 import glob\n",
    "import numpy as np\n",
    "import mne"
   ]
  },
  {
   "cell_type": "code",
   "execution_count": 21,
   "metadata": {},
   "outputs": [
    {
     "data": {
      "text/plain": [
       "1648"
      ]
     },
     "execution_count": 21,
     "metadata": {},
     "output_type": "execute_result"
    }
   ],
   "source": [
    "#edf_file_list = glob(\"../tuh_eeg_abnormal/edf/*/*/*/*/*/*/*.edf\")\n",
    "edf_file_list = glob(\"../tuh_eeg_epilepsy/edf/*/*/*/*/*/*.edf\")\n",
    "\n",
    "len(edf_file_list)"
   ]
  },
  {
   "cell_type": "code",
   "execution_count": 22,
   "metadata": {},
   "outputs": [],
   "source": [
    "file_path = edf_file_list[0]\n",
    "raw_data = mne.io.read_raw_edf(file_path, verbose=False, preload=False)"
   ]
  },
  {
   "cell_type": "code",
   "execution_count": 23,
   "metadata": {},
   "outputs": [
    {
     "data": {
      "text/plain": [
       "['..',\n",
       " 'tuh_eeg_epilepsy',\n",
       " 'edf',\n",
       " 'epilepsy',\n",
       " '03_tcp_ar_a',\n",
       " '076',\n",
       " '00007656',\n",
       " 's010_2011_03_13',\n",
       " '00007656_s010_t000.edf']"
      ]
     },
     "execution_count": 23,
     "metadata": {},
     "output_type": "execute_result"
    }
   ],
   "source": [
    "edf_file_list[0].split(\"/\")"
   ]
  },
  {
   "cell_type": "code",
   "execution_count": 24,
   "metadata": {},
   "outputs": [
    {
     "data": {
      "text/plain": [
       "200"
      ]
     },
     "execution_count": 24,
     "metadata": {},
     "output_type": "execute_result"
    }
   ],
   "source": [
    "# extract subject IDs from the file path, create python set to extract unique elements from list, convert to list again \n",
    "unique_epilepsy_patient_ids = list(set([x.split(\"/\")[-1].split(\"_\")[0] for x in edf_file_list]))\n",
    "len(unique_epilepsy_patient_ids)"
   ]
  },
  {
   "cell_type": "code",
   "execution_count": 25,
   "metadata": {},
   "outputs": [
    {
     "data": {
      "text/plain": [
       "'00010715'"
      ]
     },
     "execution_count": 25,
     "metadata": {},
     "output_type": "execute_result"
    }
   ],
   "source": [
    "unique_epilepsy_patient_ids[0]"
   ]
  },
  {
   "cell_type": "code",
   "execution_count": null,
   "metadata": {},
   "outputs": [],
   "source": []
  }
 ],
 "metadata": {
  "kernelspec": {
   "display_name": "Python 3",
   "language": "python",
   "name": "python3"
  },
  "language_info": {
   "codemirror_mode": {
    "name": "ipython",
    "version": 3
   },
   "file_extension": ".py",
   "mimetype": "text/x-python",
   "name": "python",
   "nbconvert_exporter": "python",
   "pygments_lexer": "ipython3",
   "version": "3.8.5"
  }
 },
 "nbformat": 4,
 "nbformat_minor": 4
}
