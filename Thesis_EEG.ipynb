{
 "cells": [
  {
   "cell_type": "markdown",
   "metadata": {},
   "source": [
    "# Building the pipeline for working with EEG data\n",
    "\n",
    "In this notebook\n",
    "- we build the codes to extract initial raw data;\n",
    "- we calculate different metrics as mesuares of functional connectivity;\n",
    "- based on calculated measures like Mutual Information and Coherence we create Adjacency Matrices; \n",
    "- we create graphs based on the previously calculated metrics;\n",
    "- make some plots to visualize the obtained graphs.\n",
    "\n",
    "MAYBE based on graphs we will train some graph convolutional neural networks..."
   ]
  },
  {
   "cell_type": "markdown",
   "metadata": {},
   "source": [
    "# 0 - Required packages\n",
    "\n"
   ]
  },
  {
   "cell_type": "markdown",
   "metadata": {},
   "source": [
    "# 1 - Datasets Links\n",
    "\n",
    "- Links for downloading the datasets: https://isip.piconepress.com/projects/tuh_eeg/html/downloads.shtml\n",
    "- Command for getting the data from the server: \n",
    "- \"rsync -auxvL nedc@www.isip.piconepress.com:data/eeg/tuh_eeg_abnormal/v2.0.0/ .\" \n",
    "- \"rsync -auxvL nedc@www.isip.piconepress.com:data/eeg/tuh_eeg_epilepsy/v1.0.0/ .\""
   ]
  },
  {
   "cell_type": "markdown",
   "metadata": {},
   "source": [
    "### Data engineering"
   ]
  },
  {
   "cell_type": "code",
   "execution_count": 20,
   "metadata": {},
   "outputs": [],
   "source": [
    "from glob2 import glob\n",
    "import numpy as np\n",
    "import mne"
   ]
  },
  {
   "cell_type": "code",
   "execution_count": 21,
   "metadata": {},
   "outputs": [
    {
     "data": {
      "text/plain": [
       "1648"
      ]
     },
     "execution_count": 21,
     "metadata": {},
     "output_type": "execute_result"
    }
   ],
   "source": [
    "#edf_file_list = glob(\"../tuh_eeg_abnormal/edf/*/*/*/*/*/*/*.edf\")\n",
    "edf_file_list = glob(\"../tuh_eeg_epilepsy/edf/*/*/*/*/*/*.edf\")\n",
    "\n",
    "len(edf_file_list)"
   ]
  },
  {
   "cell_type": "code",
   "execution_count": 22,
   "metadata": {},
   "outputs": [],
   "source": [
    "file_path = edf_file_list[0]\n",
    "raw_data = mne.io.read_raw_edf(file_path, verbose=False, preload=False)"
   ]
  },
  {
   "cell_type": "code",
   "execution_count": 23,
   "metadata": {},
   "outputs": [
    {
     "data": {
      "text/plain": [
       "['..',\n",
       " 'tuh_eeg_epilepsy',\n",
       " 'edf',\n",
       " 'epilepsy',\n",
       " '03_tcp_ar_a',\n",
       " '076',\n",
       " '00007656',\n",
       " 's010_2011_03_13',\n",
       " '00007656_s010_t000.edf']"
      ]
     },
     "execution_count": 23,
     "metadata": {},
     "output_type": "execute_result"
    }
   ],
   "source": [
    "edf_file_list[0].split(\"/\")"
   ]
  },
  {
   "cell_type": "code",
   "execution_count": 24,
   "metadata": {},
   "outputs": [
    {
     "data": {
      "text/plain": [
       "200"
      ]
     },
     "execution_count": 24,
     "metadata": {},
     "output_type": "execute_result"
    }
   ],
   "source": [
    "# extract subject IDs from the file path, create python set to extract unique elements from list, convert to list again \n",
    "unique_epilepsy_patient_ids = list(set([x.split(\"/\")[-1].split(\"_\")[0] for x in edf_file_list]))\n",
    "len(unique_epilepsy_patient_ids)"
   ]
  },
  {
   "cell_type": "code",
   "execution_count": 25,
   "metadata": {},
   "outputs": [
    {
     "data": {
      "text/plain": [
       "'00010715'"
      ]
     },
     "execution_count": 25,
     "metadata": {},
     "output_type": "execute_result"
    }
   ],
   "source": [
    "unique_epilepsy_patient_ids[0]"
   ]
  },
  {
   "cell_type": "code",
   "execution_count": null,
   "metadata": {},
   "outputs": [],
   "source": []
  }
 ],
 "metadata": {
  "kernelspec": {
   "display_name": "Python 3",
   "language": "python",
   "name": "python3"
  },
  "language_info": {
   "codemirror_mode": {
    "name": "ipython",
    "version": 3
   },
   "file_extension": ".py",
   "mimetype": "text/x-python",
   "name": "python",
   "nbconvert_exporter": "python",
   "pygments_lexer": "ipython3",
   "version": "3.8.5"
  }
 },
 "nbformat": 4,
 "nbformat_minor": 4
}
